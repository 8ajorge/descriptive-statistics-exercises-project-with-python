{
    "cells": [
        {
            "cell_type": "markdown",
            "id": "ac622319",
            "metadata": {},
            "source": [
                "# Descriptive statistics problems"
            ]
        },
        {
            "cell_type": "markdown",
            "id": "5e0ab0d5",
            "metadata": {},
            "source": [
                "### Exercise 1\n",
                "\n",
                "We will use NumPy to obtain information to describe statistically.\n",
                "\n",
                "- Generate an array of 100 elements following a normal distribution.\n",
                "- Generate an array of 100 elements following a chi-square distribution with 3 degrees of freedom.\n",
                "- Calculate the main metrics and statistical measures that best describe the two vectors."
            ]
        },
        {
            "cell_type": "code",
            "execution_count": 9,
            "id": "34720ab6",
            "metadata": {},
            "outputs": [],
            "source": [
                "# TODO\n",
                "import numpy as np\n",
                "import matplotlib.pyplot as plt\n",
                "import seaborn as sns\n",
                "\n"
            ]
        },
        {
            "cell_type": "code",
            "execution_count": 14,
            "id": "ccfe8a4b",
            "metadata": {},
            "outputs": [],
            "source": [
                "normal = np.random.normal(0, 1, 100)\n",
                "chi_squared = np.random.chisquare(3, 100)"
            ]
        },
        {
            "cell_type": "code",
            "execution_count": 23,
            "id": "faea9993",
            "metadata": {},
            "outputs": [
                {
                    "name": "stdout",
                    "output_type": "stream",
                    "text": [
                        "Normal Mean:  0.09247391641789923\n",
                        "Normal Standard Deviation:  1.0488541655239274\n",
                        "Chi Squared Mean:  3.0967112223132376\n",
                        "Chi Squared Standard Deviation:  2.1197396034220777\n"
                    ]
                },
                {
                    "data": {
                        "text/plain": [
                            "<Figure size 800x600 with 0 Axes>"
                        ]
                    },
                    "metadata": {},
                    "output_type": "display_data"
                },
                {
                    "data": {
                        "text/plain": [
                            "<Figure size 800x600 with 0 Axes>"
                        ]
                    },
                    "metadata": {},
                    "output_type": "display_data"
                }
            ],
            "source": [
                "normal_fig = plt.figure(figsize=(8, 6))\n",
                "chi_squared_fig = plt.figure(figsize=(8, 6))\n",
                "\n",
                "normal_mean = np.mean(normal)\n",
                "normal_std = np.std(normal)\n",
                "chi_squared_mean = np.mean(chi_squared)\n",
                "chi_squared_std = np.std(chi_squared)\n",
                "\n",
                "print(\"Normal Mean: \", normal_mean)\n",
                "print(\"Normal Standard Deviation: \", normal_std)\n",
                "print(\"Chi Squared Mean: \", chi_squared_mean)\n",
                "print(\"Chi Squared Standard Deviation: \", chi_squared_std)\n"
            ]
        },
        {
            "cell_type": "code",
            "execution_count": 20,
            "id": "db87da4d",
            "metadata": {},
            "outputs": [
                {
                    "data": {
                        "text/plain": [
                            "<Axes: ylabel='Count'>"
                        ]
                    },
                    "execution_count": 20,
                    "metadata": {},
                    "output_type": "execute_result"
                },
                {
                    "data": {
                        "image/png": "[encoded data removed]",
                        "text/plain": [
                            "<Figure size 640x480 with 1 Axes>"
                        ]
                    },
                    "metadata": {},
                    "output_type": "display_data"
                }
            ],
            "source": [
                "sns.histplot(normal, kde=True, color='red')\n",
                "sns.histplot(chi_squared, kde=True)"
            ]
        },
        {
            "cell_type": "markdown",
            "id": "46c70c3d",
            "metadata": {},
            "source": [
                "### Exercise 2\n",
                "\n",
                "Write a Python program to calculate the standard deviation of the following data:\n",
                "\n",
                "```py\n",
                "data = [4, 2, 5, 8, 6]\n",
                "```"
            ]
        },
        {
            "cell_type": "code",
            "execution_count": 31,
            "id": "d590308e",
            "metadata": {},
            "outputs": [
                {
                    "name": "stdout",
                    "output_type": "stream",
                    "text": [
                        "The standar deviation is: 2.0 \n"
                    ]
                }
            ],
            "source": [
                "# TODO\n",
                "data = [4, 2, 5, 8, 6]\n",
                "np_data = np.array(data)\n",
                "std = np.std(np_data)\n",
                "print(f\"The standar deviation is: {std} \")"
            ]
        }
    ],
    "metadata": {
        "kernelspec": {
            "display_name": "Python 3",
            "language": "python",
            "name": "python3"
        },
        "language_info": {
            "codemirror_mode": {
                "name": "ipython",
                "version": 3
            },
            "file_extension": ".py",
            "mimetype": "text/x-python",
            "name": "python",
            "nbconvert_exporter": "python",
            "pygments_lexer": "ipython3",
            "version": "3.13.1"
        }
    },
    "nbformat": 4,
    "nbformat_minor": 5
}
